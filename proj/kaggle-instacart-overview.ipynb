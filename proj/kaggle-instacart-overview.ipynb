{
 "cells": [
  {
   "cell_type": "markdown",
   "metadata": {},
   "source": [
    "# Kaggle Instacart dataset"
   ]
  },
  {
   "cell_type": "code",
   "execution_count": 1,
   "metadata": {
    "collapsed": true
   },
   "outputs": [],
   "source": [
    "import pandas as pd\n",
    "import matplotlib.pyplot as plt\n",
    "import seaborn\n",
    "import numpy as np\n",
    "from functools import partial\n",
    "import gc\n",
    "%matplotlib inline"
   ]
  },
  {
   "cell_type": "markdown",
   "metadata": {},
   "source": [
    "## Product data"
   ]
  },
  {
   "cell_type": "code",
   "execution_count": 2,
   "metadata": {},
   "outputs": [
    {
     "data": {
      "text/html": [
       "<div>\n",
       "<style>\n",
       "    .dataframe thead tr:only-child th {\n",
       "        text-align: right;\n",
       "    }\n",
       "\n",
       "    .dataframe thead th {\n",
       "        text-align: left;\n",
       "    }\n",
       "\n",
       "    .dataframe tbody tr th {\n",
       "        vertical-align: top;\n",
       "    }\n",
       "</style>\n",
       "<table border=\"1\" class=\"dataframe\">\n",
       "  <thead>\n",
       "    <tr style=\"text-align: right;\">\n",
       "      <th></th>\n",
       "      <th>aisle_id</th>\n",
       "      <th>aisle</th>\n",
       "    </tr>\n",
       "  </thead>\n",
       "  <tbody>\n",
       "    <tr>\n",
       "      <th>0</th>\n",
       "      <td>1</td>\n",
       "      <td>prepared soups salads</td>\n",
       "    </tr>\n",
       "    <tr>\n",
       "      <th>1</th>\n",
       "      <td>2</td>\n",
       "      <td>specialty cheeses</td>\n",
       "    </tr>\n",
       "    <tr>\n",
       "      <th>2</th>\n",
       "      <td>3</td>\n",
       "      <td>energy granola bars</td>\n",
       "    </tr>\n",
       "    <tr>\n",
       "      <th>3</th>\n",
       "      <td>4</td>\n",
       "      <td>instant foods</td>\n",
       "    </tr>\n",
       "    <tr>\n",
       "      <th>4</th>\n",
       "      <td>5</td>\n",
       "      <td>marinades meat preparation</td>\n",
       "    </tr>\n",
       "  </tbody>\n",
       "</table>\n",
       "</div>"
      ],
      "text/plain": [
       "   aisle_id                       aisle\n",
       "0         1       prepared soups salads\n",
       "1         2           specialty cheeses\n",
       "2         3         energy granola bars\n",
       "3         4               instant foods\n",
       "4         5  marinades meat preparation"
      ]
     },
     "execution_count": 2,
     "metadata": {},
     "output_type": "execute_result"
    }
   ],
   "source": [
    "aisles = pd.read_csv(\"./aisles.csv\", engine='c')\n",
    "aisles.head()"
   ]
  },
  {
   "cell_type": "code",
   "execution_count": 3,
   "metadata": {},
   "outputs": [
    {
     "data": {
      "text/html": [
       "<div>\n",
       "<style>\n",
       "    .dataframe thead tr:only-child th {\n",
       "        text-align: right;\n",
       "    }\n",
       "\n",
       "    .dataframe thead th {\n",
       "        text-align: left;\n",
       "    }\n",
       "\n",
       "    .dataframe tbody tr th {\n",
       "        vertical-align: top;\n",
       "    }\n",
       "</style>\n",
       "<table border=\"1\" class=\"dataframe\">\n",
       "  <thead>\n",
       "    <tr style=\"text-align: right;\">\n",
       "      <th></th>\n",
       "      <th>department_id</th>\n",
       "      <th>department</th>\n",
       "    </tr>\n",
       "  </thead>\n",
       "  <tbody>\n",
       "    <tr>\n",
       "      <th>0</th>\n",
       "      <td>1</td>\n",
       "      <td>frozen</td>\n",
       "    </tr>\n",
       "    <tr>\n",
       "      <th>1</th>\n",
       "      <td>2</td>\n",
       "      <td>other</td>\n",
       "    </tr>\n",
       "    <tr>\n",
       "      <th>2</th>\n",
       "      <td>3</td>\n",
       "      <td>bakery</td>\n",
       "    </tr>\n",
       "    <tr>\n",
       "      <th>3</th>\n",
       "      <td>4</td>\n",
       "      <td>produce</td>\n",
       "    </tr>\n",
       "    <tr>\n",
       "      <th>4</th>\n",
       "      <td>5</td>\n",
       "      <td>alcohol</td>\n",
       "    </tr>\n",
       "  </tbody>\n",
       "</table>\n",
       "</div>"
      ],
      "text/plain": [
       "   department_id department\n",
       "0              1     frozen\n",
       "1              2      other\n",
       "2              3     bakery\n",
       "3              4    produce\n",
       "4              5    alcohol"
      ]
     },
     "execution_count": 3,
     "metadata": {},
     "output_type": "execute_result"
    }
   ],
   "source": [
    "departments = pd.read_csv('./departments.csv', engine='c')\n",
    "departments.head()"
   ]
  },
  {
   "cell_type": "code",
   "execution_count": 4,
   "metadata": {},
   "outputs": [
    {
     "data": {
      "text/html": [
       "<div>\n",
       "<style>\n",
       "    .dataframe thead tr:only-child th {\n",
       "        text-align: right;\n",
       "    }\n",
       "\n",
       "    .dataframe thead th {\n",
       "        text-align: left;\n",
       "    }\n",
       "\n",
       "    .dataframe tbody tr th {\n",
       "        vertical-align: top;\n",
       "    }\n",
       "</style>\n",
       "<table border=\"1\" class=\"dataframe\">\n",
       "  <thead>\n",
       "    <tr style=\"text-align: right;\">\n",
       "      <th></th>\n",
       "      <th>product_id</th>\n",
       "      <th>product_name</th>\n",
       "      <th>aisle_id</th>\n",
       "      <th>department_id</th>\n",
       "    </tr>\n",
       "  </thead>\n",
       "  <tbody>\n",
       "    <tr>\n",
       "      <th>0</th>\n",
       "      <td>1</td>\n",
       "      <td>Chocolate Sandwich Cookies</td>\n",
       "      <td>61</td>\n",
       "      <td>19</td>\n",
       "    </tr>\n",
       "    <tr>\n",
       "      <th>1</th>\n",
       "      <td>2</td>\n",
       "      <td>All-Seasons Salt</td>\n",
       "      <td>104</td>\n",
       "      <td>13</td>\n",
       "    </tr>\n",
       "    <tr>\n",
       "      <th>2</th>\n",
       "      <td>3</td>\n",
       "      <td>Robust Golden Unsweetened Oolong Tea</td>\n",
       "      <td>94</td>\n",
       "      <td>7</td>\n",
       "    </tr>\n",
       "    <tr>\n",
       "      <th>3</th>\n",
       "      <td>4</td>\n",
       "      <td>Smart Ones Classic Favorites Mini Rigatoni Wit...</td>\n",
       "      <td>38</td>\n",
       "      <td>1</td>\n",
       "    </tr>\n",
       "    <tr>\n",
       "      <th>4</th>\n",
       "      <td>5</td>\n",
       "      <td>Green Chile Anytime Sauce</td>\n",
       "      <td>5</td>\n",
       "      <td>13</td>\n",
       "    </tr>\n",
       "  </tbody>\n",
       "</table>\n",
       "</div>"
      ],
      "text/plain": [
       "   product_id                                       product_name  aisle_id  \\\n",
       "0           1                         Chocolate Sandwich Cookies        61   \n",
       "1           2                                   All-Seasons Salt       104   \n",
       "2           3               Robust Golden Unsweetened Oolong Tea        94   \n",
       "3           4  Smart Ones Classic Favorites Mini Rigatoni Wit...        38   \n",
       "4           5                          Green Chile Anytime Sauce         5   \n",
       "\n",
       "   department_id  \n",
       "0             19  \n",
       "1             13  \n",
       "2              7  \n",
       "3              1  \n",
       "4             13  "
      ]
     },
     "execution_count": 4,
     "metadata": {},
     "output_type": "execute_result"
    }
   ],
   "source": [
    "products = pd.read_csv('./products.csv', engine='c')\n",
    "products.head()"
   ]
  },
  {
   "cell_type": "code",
   "execution_count": 5,
   "metadata": {},
   "outputs": [
    {
     "data": {
      "text/html": [
       "<div>\n",
       "<style>\n",
       "    .dataframe thead tr:only-child th {\n",
       "        text-align: right;\n",
       "    }\n",
       "\n",
       "    .dataframe thead th {\n",
       "        text-align: left;\n",
       "    }\n",
       "\n",
       "    .dataframe tbody tr th {\n",
       "        vertical-align: top;\n",
       "    }\n",
       "</style>\n",
       "<table border=\"1\" class=\"dataframe\">\n",
       "  <thead>\n",
       "    <tr style=\"text-align: right;\">\n",
       "      <th></th>\n",
       "      <th>product_id</th>\n",
       "      <th>product_name</th>\n",
       "      <th>aisle_id</th>\n",
       "      <th>department_id</th>\n",
       "      <th>aisle</th>\n",
       "    </tr>\n",
       "  </thead>\n",
       "  <tbody>\n",
       "    <tr>\n",
       "      <th>0</th>\n",
       "      <td>1</td>\n",
       "      <td>Chocolate Sandwich Cookies</td>\n",
       "      <td>61</td>\n",
       "      <td>19</td>\n",
       "      <td>cookies cakes</td>\n",
       "    </tr>\n",
       "    <tr>\n",
       "      <th>1</th>\n",
       "      <td>2</td>\n",
       "      <td>All-Seasons Salt</td>\n",
       "      <td>104</td>\n",
       "      <td>13</td>\n",
       "      <td>spices seasonings</td>\n",
       "    </tr>\n",
       "    <tr>\n",
       "      <th>2</th>\n",
       "      <td>3</td>\n",
       "      <td>Robust Golden Unsweetened Oolong Tea</td>\n",
       "      <td>94</td>\n",
       "      <td>7</td>\n",
       "      <td>tea</td>\n",
       "    </tr>\n",
       "    <tr>\n",
       "      <th>3</th>\n",
       "      <td>4</td>\n",
       "      <td>Smart Ones Classic Favorites Mini Rigatoni Wit...</td>\n",
       "      <td>38</td>\n",
       "      <td>1</td>\n",
       "      <td>frozen meals</td>\n",
       "    </tr>\n",
       "    <tr>\n",
       "      <th>4</th>\n",
       "      <td>5</td>\n",
       "      <td>Green Chile Anytime Sauce</td>\n",
       "      <td>5</td>\n",
       "      <td>13</td>\n",
       "      <td>marinades meat preparation</td>\n",
       "    </tr>\n",
       "  </tbody>\n",
       "</table>\n",
       "</div>"
      ],
      "text/plain": [
       "   product_id                                       product_name  aisle_id  \\\n",
       "0           1                         Chocolate Sandwich Cookies        61   \n",
       "1           2                                   All-Seasons Salt       104   \n",
       "2           3               Robust Golden Unsweetened Oolong Tea        94   \n",
       "3           4  Smart Ones Classic Favorites Mini Rigatoni Wit...        38   \n",
       "4           5                          Green Chile Anytime Sauce         5   \n",
       "\n",
       "   department_id                       aisle  \n",
       "0             19               cookies cakes  \n",
       "1             13           spices seasonings  \n",
       "2              7                         tea  \n",
       "3              1                frozen meals  \n",
       "4             13  marinades meat preparation  "
      ]
     },
     "execution_count": 5,
     "metadata": {},
     "output_type": "execute_result"
    }
   ],
   "source": [
    "products = pd.merge(products, aisles, on='aisle_id', how='left')\n",
    "products.head()"
   ]
  },
  {
   "cell_type": "code",
   "execution_count": 6,
   "metadata": {},
   "outputs": [
    {
     "data": {
      "text/html": [
       "<div>\n",
       "<style>\n",
       "    .dataframe thead tr:only-child th {\n",
       "        text-align: right;\n",
       "    }\n",
       "\n",
       "    .dataframe thead th {\n",
       "        text-align: left;\n",
       "    }\n",
       "\n",
       "    .dataframe tbody tr th {\n",
       "        vertical-align: top;\n",
       "    }\n",
       "</style>\n",
       "<table border=\"1\" class=\"dataframe\">\n",
       "  <thead>\n",
       "    <tr style=\"text-align: right;\">\n",
       "      <th></th>\n",
       "      <th>product_id</th>\n",
       "      <th>product_name</th>\n",
       "      <th>aisle_id</th>\n",
       "      <th>department_id</th>\n",
       "      <th>aisle</th>\n",
       "      <th>department</th>\n",
       "    </tr>\n",
       "  </thead>\n",
       "  <tbody>\n",
       "    <tr>\n",
       "      <th>0</th>\n",
       "      <td>1</td>\n",
       "      <td>Chocolate Sandwich Cookies</td>\n",
       "      <td>61</td>\n",
       "      <td>19</td>\n",
       "      <td>cookies cakes</td>\n",
       "      <td>snacks</td>\n",
       "    </tr>\n",
       "    <tr>\n",
       "      <th>1</th>\n",
       "      <td>2</td>\n",
       "      <td>All-Seasons Salt</td>\n",
       "      <td>104</td>\n",
       "      <td>13</td>\n",
       "      <td>spices seasonings</td>\n",
       "      <td>pantry</td>\n",
       "    </tr>\n",
       "    <tr>\n",
       "      <th>2</th>\n",
       "      <td>3</td>\n",
       "      <td>Robust Golden Unsweetened Oolong Tea</td>\n",
       "      <td>94</td>\n",
       "      <td>7</td>\n",
       "      <td>tea</td>\n",
       "      <td>beverages</td>\n",
       "    </tr>\n",
       "    <tr>\n",
       "      <th>3</th>\n",
       "      <td>4</td>\n",
       "      <td>Smart Ones Classic Favorites Mini Rigatoni Wit...</td>\n",
       "      <td>38</td>\n",
       "      <td>1</td>\n",
       "      <td>frozen meals</td>\n",
       "      <td>frozen</td>\n",
       "    </tr>\n",
       "    <tr>\n",
       "      <th>4</th>\n",
       "      <td>5</td>\n",
       "      <td>Green Chile Anytime Sauce</td>\n",
       "      <td>5</td>\n",
       "      <td>13</td>\n",
       "      <td>marinades meat preparation</td>\n",
       "      <td>pantry</td>\n",
       "    </tr>\n",
       "  </tbody>\n",
       "</table>\n",
       "</div>"
      ],
      "text/plain": [
       "   product_id                                       product_name  aisle_id  \\\n",
       "0           1                         Chocolate Sandwich Cookies        61   \n",
       "1           2                                   All-Seasons Salt       104   \n",
       "2           3               Robust Golden Unsweetened Oolong Tea        94   \n",
       "3           4  Smart Ones Classic Favorites Mini Rigatoni Wit...        38   \n",
       "4           5                          Green Chile Anytime Sauce         5   \n",
       "\n",
       "   department_id                       aisle department  \n",
       "0             19               cookies cakes     snacks  \n",
       "1             13           spices seasonings     pantry  \n",
       "2              7                         tea  beverages  \n",
       "3              1                frozen meals     frozen  \n",
       "4             13  marinades meat preparation     pantry  "
      ]
     },
     "execution_count": 6,
     "metadata": {},
     "output_type": "execute_result"
    }
   ],
   "source": [
    "products = pd.merge(products, departments, on='department_id', how='left')\n",
    "products.head()"
   ]
  },
  {
   "cell_type": "markdown",
   "metadata": {},
   "source": [
    "## Order data"
   ]
  },
  {
   "cell_type": "markdown",
   "metadata": {},
   "source": [
    "Use explicit typing and the C engine so that pandas doesn't have to make expensive type inferences"
   ]
  },
  {
   "cell_type": "code",
   "execution_count": 7,
   "metadata": {},
   "outputs": [
    {
     "data": {
      "text/html": [
       "<div>\n",
       "<style>\n",
       "    .dataframe thead tr:only-child th {\n",
       "        text-align: right;\n",
       "    }\n",
       "\n",
       "    .dataframe thead th {\n",
       "        text-align: left;\n",
       "    }\n",
       "\n",
       "    .dataframe tbody tr th {\n",
       "        vertical-align: top;\n",
       "    }\n",
       "</style>\n",
       "<table border=\"1\" class=\"dataframe\">\n",
       "  <thead>\n",
       "    <tr style=\"text-align: right;\">\n",
       "      <th></th>\n",
       "      <th>order_id</th>\n",
       "      <th>product_id</th>\n",
       "      <th>add_to_cart_order</th>\n",
       "      <th>reordered</th>\n",
       "    </tr>\n",
       "  </thead>\n",
       "  <tbody>\n",
       "    <tr>\n",
       "      <th>0</th>\n",
       "      <td>1</td>\n",
       "      <td>49302</td>\n",
       "      <td>1</td>\n",
       "      <td>1</td>\n",
       "    </tr>\n",
       "    <tr>\n",
       "      <th>1</th>\n",
       "      <td>1</td>\n",
       "      <td>11109</td>\n",
       "      <td>2</td>\n",
       "      <td>1</td>\n",
       "    </tr>\n",
       "    <tr>\n",
       "      <th>2</th>\n",
       "      <td>1</td>\n",
       "      <td>10246</td>\n",
       "      <td>3</td>\n",
       "      <td>0</td>\n",
       "    </tr>\n",
       "    <tr>\n",
       "      <th>3</th>\n",
       "      <td>1</td>\n",
       "      <td>49683</td>\n",
       "      <td>4</td>\n",
       "      <td>0</td>\n",
       "    </tr>\n",
       "    <tr>\n",
       "      <th>4</th>\n",
       "      <td>1</td>\n",
       "      <td>43633</td>\n",
       "      <td>5</td>\n",
       "      <td>1</td>\n",
       "    </tr>\n",
       "  </tbody>\n",
       "</table>\n",
       "</div>"
      ],
      "text/plain": [
       "   order_id  product_id  add_to_cart_order  reordered\n",
       "0         1       49302                  1          1\n",
       "1         1       11109                  2          1\n",
       "2         1       10246                  3          0\n",
       "3         1       49683                  4          0\n",
       "4         1       43633                  5          1"
      ]
     },
     "execution_count": 7,
     "metadata": {},
     "output_type": "execute_result"
    }
   ],
   "source": [
    "op_train = pd.read_csv('./order_products__train.csv', engine='c', \n",
    "                       dtype={'order_id': np.int32, 'product_id': np.int32, \n",
    "                              'add_to_cart_order': np.int16, 'reordered': np.int8})\n",
    "op_train.head()"
   ]
  },
  {
   "cell_type": "code",
   "execution_count": 8,
   "metadata": {},
   "outputs": [
    {
     "data": {
      "text/html": [
       "<div>\n",
       "<style>\n",
       "    .dataframe thead tr:only-child th {\n",
       "        text-align: right;\n",
       "    }\n",
       "\n",
       "    .dataframe thead th {\n",
       "        text-align: left;\n",
       "    }\n",
       "\n",
       "    .dataframe tbody tr th {\n",
       "        vertical-align: top;\n",
       "    }\n",
       "</style>\n",
       "<table border=\"1\" class=\"dataframe\">\n",
       "  <thead>\n",
       "    <tr style=\"text-align: right;\">\n",
       "      <th></th>\n",
       "      <th>order_id</th>\n",
       "      <th>product_id</th>\n",
       "      <th>add_to_cart_order</th>\n",
       "      <th>reordered</th>\n",
       "    </tr>\n",
       "  </thead>\n",
       "  <tbody>\n",
       "    <tr>\n",
       "      <th>0</th>\n",
       "      <td>2</td>\n",
       "      <td>33120</td>\n",
       "      <td>1</td>\n",
       "      <td>1</td>\n",
       "    </tr>\n",
       "    <tr>\n",
       "      <th>1</th>\n",
       "      <td>2</td>\n",
       "      <td>28985</td>\n",
       "      <td>2</td>\n",
       "      <td>1</td>\n",
       "    </tr>\n",
       "    <tr>\n",
       "      <th>2</th>\n",
       "      <td>2</td>\n",
       "      <td>9327</td>\n",
       "      <td>3</td>\n",
       "      <td>0</td>\n",
       "    </tr>\n",
       "    <tr>\n",
       "      <th>3</th>\n",
       "      <td>2</td>\n",
       "      <td>45918</td>\n",
       "      <td>4</td>\n",
       "      <td>1</td>\n",
       "    </tr>\n",
       "    <tr>\n",
       "      <th>4</th>\n",
       "      <td>2</td>\n",
       "      <td>30035</td>\n",
       "      <td>5</td>\n",
       "      <td>0</td>\n",
       "    </tr>\n",
       "  </tbody>\n",
       "</table>\n",
       "</div>"
      ],
      "text/plain": [
       "   order_id  product_id  add_to_cart_order  reordered\n",
       "0         2       33120                  1          1\n",
       "1         2       28985                  2          1\n",
       "2         2        9327                  3          0\n",
       "3         2       45918                  4          1\n",
       "4         2       30035                  5          0"
      ]
     },
     "execution_count": 8,
     "metadata": {},
     "output_type": "execute_result"
    }
   ],
   "source": [
    "op_prior = pd.read_csv('./order_products__prior.csv', engine='c', \n",
    "                       dtype={'order_id': np.int32, 'product_id': np.int32, \n",
    "                              'add_to_cart_order': np.int16, 'reordered': np.int8})\n",
    "op_prior.head()"
   ]
  },
  {
   "cell_type": "code",
   "execution_count": 9,
   "metadata": {},
   "outputs": [
    {
     "data": {
      "text/html": [
       "<div>\n",
       "<style>\n",
       "    .dataframe thead tr:only-child th {\n",
       "        text-align: right;\n",
       "    }\n",
       "\n",
       "    .dataframe thead th {\n",
       "        text-align: left;\n",
       "    }\n",
       "\n",
       "    .dataframe tbody tr th {\n",
       "        vertical-align: top;\n",
       "    }\n",
       "</style>\n",
       "<table border=\"1\" class=\"dataframe\">\n",
       "  <thead>\n",
       "    <tr style=\"text-align: right;\">\n",
       "      <th></th>\n",
       "      <th>order_id</th>\n",
       "      <th>user_id</th>\n",
       "      <th>eval_set</th>\n",
       "      <th>order_number</th>\n",
       "      <th>order_dow</th>\n",
       "      <th>order_hour_of_day</th>\n",
       "      <th>days_since_prior_order</th>\n",
       "    </tr>\n",
       "  </thead>\n",
       "  <tbody>\n",
       "    <tr>\n",
       "      <th>0</th>\n",
       "      <td>2539329</td>\n",
       "      <td>1</td>\n",
       "      <td>0</td>\n",
       "      <td>1</td>\n",
       "      <td>2</td>\n",
       "      <td>8</td>\n",
       "      <td>NaN</td>\n",
       "    </tr>\n",
       "    <tr>\n",
       "      <th>1</th>\n",
       "      <td>2398795</td>\n",
       "      <td>1</td>\n",
       "      <td>0</td>\n",
       "      <td>2</td>\n",
       "      <td>3</td>\n",
       "      <td>7</td>\n",
       "      <td>15.0</td>\n",
       "    </tr>\n",
       "    <tr>\n",
       "      <th>2</th>\n",
       "      <td>473747</td>\n",
       "      <td>1</td>\n",
       "      <td>0</td>\n",
       "      <td>3</td>\n",
       "      <td>3</td>\n",
       "      <td>12</td>\n",
       "      <td>21.0</td>\n",
       "    </tr>\n",
       "    <tr>\n",
       "      <th>3</th>\n",
       "      <td>2254736</td>\n",
       "      <td>1</td>\n",
       "      <td>0</td>\n",
       "      <td>4</td>\n",
       "      <td>4</td>\n",
       "      <td>7</td>\n",
       "      <td>29.0</td>\n",
       "    </tr>\n",
       "    <tr>\n",
       "      <th>4</th>\n",
       "      <td>431534</td>\n",
       "      <td>1</td>\n",
       "      <td>0</td>\n",
       "      <td>5</td>\n",
       "      <td>4</td>\n",
       "      <td>15</td>\n",
       "      <td>28.0</td>\n",
       "    </tr>\n",
       "  </tbody>\n",
       "</table>\n",
       "</div>"
      ],
      "text/plain": [
       "   order_id  user_id  eval_set  order_number  order_dow  order_hour_of_day  \\\n",
       "0   2539329        1         0             1          2                  8   \n",
       "1   2398795        1         0             2          3                  7   \n",
       "2    473747        1         0             3          3                 12   \n",
       "3   2254736        1         0             4          4                  7   \n",
       "4    431534        1         0             5          4                 15   \n",
       "\n",
       "   days_since_prior_order  \n",
       "0                     NaN  \n",
       "1                    15.0  \n",
       "2                    21.0  \n",
       "3                    29.0  \n",
       "4                    28.0  "
      ]
     },
     "execution_count": 9,
     "metadata": {},
     "output_type": "execute_result"
    }
   ],
   "source": [
    "orders = pd.read_csv('./orders.csv', engine='c', dtype={'order_id': np.int32, \n",
    "                                                           'user_id': np.int32, \n",
    "                                                           'order_number': np.int32, \n",
    "                                                           'order_dow': np.int8, \n",
    "                                                           'order_hour_of_day': np.int8, \n",
    "                                                           'days_since_prior_order': np.float16})\n",
    "orders.eval_set = orders.eval_set.replace({'prior': 0, 'train': 1, 'test':2}).astype(np.int8)\n",
    "\n",
    "orders = orders[orders['eval_set'].isin([0, 1])]\n",
    "orders.head()"
   ]
  },
  {
   "cell_type": "markdown",
   "metadata": {},
   "source": [
    "### Train set is split into capstone-train and capstone-test\n",
    "\n",
    "The `train` set is split into `capstone-train` and `capstone-test` by `user_id` (so a user is in one set or the other, but not both).\n",
    "\n",
    "Two additional files enumerate the users to be used in your model training set vs evaluation set for submission."
   ]
  },
  {
   "cell_type": "code",
   "execution_count": 10,
   "metadata": {
    "collapsed": true
   },
   "outputs": [],
   "source": [
    "train_user_ids = pd.read_csv('./capstone-train-user_ids.csv', engine='c')\n",
    "train_user_ids.columns = ['user_id']"
   ]
  },
  {
   "cell_type": "code",
   "execution_count": 11,
   "metadata": {
    "collapsed": true
   },
   "outputs": [],
   "source": [
    "test_user_ids = pd.read_csv('./capstone-test-user_ids.csv', engine='c')\n",
    "test_user_ids.columns = ['user_id']"
   ]
  },
  {
   "cell_type": "markdown",
   "metadata": {},
   "source": [
    "### Get only train orders and split into test/train"
   ]
  },
  {
   "cell_type": "markdown",
   "metadata": {},
   "source": [
    "Change 'eval_set' to 2 for the test users, but don't change the \"prior\" orders for those test users."
   ]
  },
  {
   "cell_type": "code",
   "execution_count": 12,
   "metadata": {},
   "outputs": [
    {
     "data": {
      "text/html": [
       "<div>\n",
       "<style>\n",
       "    .dataframe thead tr:only-child th {\n",
       "        text-align: right;\n",
       "    }\n",
       "\n",
       "    .dataframe thead th {\n",
       "        text-align: left;\n",
       "    }\n",
       "\n",
       "    .dataframe tbody tr th {\n",
       "        vertical-align: top;\n",
       "    }\n",
       "</style>\n",
       "<table border=\"1\" class=\"dataframe\">\n",
       "  <thead>\n",
       "    <tr style=\"text-align: right;\">\n",
       "      <th></th>\n",
       "      <th>order_id</th>\n",
       "      <th>user_id</th>\n",
       "      <th>eval_set</th>\n",
       "      <th>order_number</th>\n",
       "      <th>order_dow</th>\n",
       "      <th>order_hour_of_day</th>\n",
       "      <th>days_since_prior_order</th>\n",
       "    </tr>\n",
       "  </thead>\n",
       "  <tbody>\n",
       "    <tr>\n",
       "      <th>74</th>\n",
       "      <td>525192</td>\n",
       "      <td>7</td>\n",
       "      <td>2</td>\n",
       "      <td>21</td>\n",
       "      <td>2</td>\n",
       "      <td>11</td>\n",
       "      <td>6.0</td>\n",
       "    </tr>\n",
       "    <tr>\n",
       "      <th>129</th>\n",
       "      <td>2316178</td>\n",
       "      <td>14</td>\n",
       "      <td>2</td>\n",
       "      <td>14</td>\n",
       "      <td>2</td>\n",
       "      <td>19</td>\n",
       "      <td>11.0</td>\n",
       "    </tr>\n",
       "    <tr>\n",
       "      <th>200</th>\n",
       "      <td>2180313</td>\n",
       "      <td>17</td>\n",
       "      <td>2</td>\n",
       "      <td>41</td>\n",
       "      <td>3</td>\n",
       "      <td>10</td>\n",
       "      <td>30.0</td>\n",
       "    </tr>\n",
       "    <tr>\n",
       "      <th>277</th>\n",
       "      <td>3402036</td>\n",
       "      <td>23</td>\n",
       "      <td>2</td>\n",
       "      <td>5</td>\n",
       "      <td>1</td>\n",
       "      <td>12</td>\n",
       "      <td>30.0</td>\n",
       "    </tr>\n",
       "    <tr>\n",
       "      <th>395</th>\n",
       "      <td>2614670</td>\n",
       "      <td>27</td>\n",
       "      <td>2</td>\n",
       "      <td>82</td>\n",
       "      <td>5</td>\n",
       "      <td>14</td>\n",
       "      <td>4.0</td>\n",
       "    </tr>\n",
       "  </tbody>\n",
       "</table>\n",
       "</div>"
      ],
      "text/plain": [
       "     order_id  user_id  eval_set  order_number  order_dow  order_hour_of_day  \\\n",
       "74     525192        7         2            21          2                 11   \n",
       "129   2316178       14         2            14          2                 19   \n",
       "200   2180313       17         2            41          3                 10   \n",
       "277   3402036       23         2             5          1                 12   \n",
       "395   2614670       27         2            82          5                 14   \n",
       "\n",
       "     days_since_prior_order  \n",
       "74                      6.0  \n",
       "129                    11.0  \n",
       "200                    30.0  \n",
       "277                    30.0  \n",
       "395                     4.0  "
      ]
     },
     "execution_count": 12,
     "metadata": {},
     "output_type": "execute_result"
    }
   ],
   "source": [
    "tr_orders = orders[orders['eval_set'] == 1]\n",
    "tr_orders = tr_orders[tr_orders['user_id'].isin(test_user_ids['user_id'])]\n",
    "tr_orders.loc[:, 'eval_set'] = 2\n",
    "tr_orders.head()"
   ]
  },
  {
   "cell_type": "code",
   "execution_count": 13,
   "metadata": {},
   "outputs": [
    {
     "data": {
      "text/plain": [
       "29"
      ]
     },
     "execution_count": 13,
     "metadata": {},
     "output_type": "execute_result"
    }
   ],
   "source": [
    "orders.loc[orders.order_id.isin(tr_orders['order_id']), 'eval_set'] = 2\n",
    "del tr_orders\n",
    "gc.collect()"
   ]
  },
  {
   "cell_type": "code",
   "execution_count": 14,
   "metadata": {},
   "outputs": [
    {
     "data": {
      "text/html": [
       "<div>\n",
       "<style>\n",
       "    .dataframe thead tr:only-child th {\n",
       "        text-align: right;\n",
       "    }\n",
       "\n",
       "    .dataframe thead th {\n",
       "        text-align: left;\n",
       "    }\n",
       "\n",
       "    .dataframe tbody tr th {\n",
       "        vertical-align: top;\n",
       "    }\n",
       "</style>\n",
       "<table border=\"1\" class=\"dataframe\">\n",
       "  <thead>\n",
       "    <tr style=\"text-align: right;\">\n",
       "      <th></th>\n",
       "      <th>order_id</th>\n",
       "      <th>user_id</th>\n",
       "      <th>eval_set</th>\n",
       "      <th>order_number</th>\n",
       "      <th>order_dow</th>\n",
       "      <th>order_hour_of_day</th>\n",
       "      <th>days_since_prior_order</th>\n",
       "    </tr>\n",
       "  </thead>\n",
       "  <tbody>\n",
       "    <tr>\n",
       "      <th>74</th>\n",
       "      <td>525192</td>\n",
       "      <td>7</td>\n",
       "      <td>2</td>\n",
       "      <td>21</td>\n",
       "      <td>2</td>\n",
       "      <td>11</td>\n",
       "      <td>6.0</td>\n",
       "    </tr>\n",
       "    <tr>\n",
       "      <th>129</th>\n",
       "      <td>2316178</td>\n",
       "      <td>14</td>\n",
       "      <td>2</td>\n",
       "      <td>14</td>\n",
       "      <td>2</td>\n",
       "      <td>19</td>\n",
       "      <td>11.0</td>\n",
       "    </tr>\n",
       "    <tr>\n",
       "      <th>200</th>\n",
       "      <td>2180313</td>\n",
       "      <td>17</td>\n",
       "      <td>2</td>\n",
       "      <td>41</td>\n",
       "      <td>3</td>\n",
       "      <td>10</td>\n",
       "      <td>30.0</td>\n",
       "    </tr>\n",
       "    <tr>\n",
       "      <th>277</th>\n",
       "      <td>3402036</td>\n",
       "      <td>23</td>\n",
       "      <td>2</td>\n",
       "      <td>5</td>\n",
       "      <td>1</td>\n",
       "      <td>12</td>\n",
       "      <td>30.0</td>\n",
       "    </tr>\n",
       "    <tr>\n",
       "      <th>395</th>\n",
       "      <td>2614670</td>\n",
       "      <td>27</td>\n",
       "      <td>2</td>\n",
       "      <td>82</td>\n",
       "      <td>5</td>\n",
       "      <td>14</td>\n",
       "      <td>4.0</td>\n",
       "    </tr>\n",
       "  </tbody>\n",
       "</table>\n",
       "</div>"
      ],
      "text/plain": [
       "     order_id  user_id  eval_set  order_number  order_dow  order_hour_of_day  \\\n",
       "74     525192        7         2            21          2                 11   \n",
       "129   2316178       14         2            14          2                 19   \n",
       "200   2180313       17         2            41          3                 10   \n",
       "277   3402036       23         2             5          1                 12   \n",
       "395   2614670       27         2            82          5                 14   \n",
       "\n",
       "     days_since_prior_order  \n",
       "74                      6.0  \n",
       "129                    11.0  \n",
       "200                    30.0  \n",
       "277                    30.0  \n",
       "395                     4.0  "
      ]
     },
     "execution_count": 14,
     "metadata": {},
     "output_type": "execute_result"
    }
   ],
   "source": [
    "orders[orders['eval_set'] == 2].head()"
   ]
  },
  {
   "cell_type": "code",
   "execution_count": 15,
   "metadata": {
    "collapsed": true
   },
   "outputs": [],
   "source": [
    "train_orders = orders[orders['eval_set'] == 1]\n",
    "test_orders = orders[orders['eval_set'] == 2]"
   ]
  },
  {
   "cell_type": "code",
   "execution_count": 16,
   "metadata": {
    "collapsed": true
   },
   "outputs": [],
   "source": [
    "#op_test = op_train[op_train['order_id'].isin(test_orders['order_id'])]\n",
    "#op_train = op_train[op_train['order_id'].isin(train_orders['order_id'])]"
   ]
  },
  {
   "cell_type": "code",
   "execution_count": 17,
   "metadata": {
    "collapsed": true
   },
   "outputs": [],
   "source": [
    "#op_train.head(4)"
   ]
  },
  {
   "cell_type": "code",
   "execution_count": 18,
   "metadata": {
    "collapsed": true
   },
   "outputs": [],
   "source": [
    "#op_test.head(4)"
   ]
  },
  {
   "cell_type": "markdown",
   "metadata": {},
   "source": [
    "### Exploratory analysis"
   ]
  },
  {
   "cell_type": "code",
   "execution_count": 19,
   "metadata": {},
   "outputs": [
    {
     "data": {
      "text/plain": [
       "<matplotlib.axes._subplots.AxesSubplot at 0xca97eb8>"
      ]
     },
     "execution_count": 19,
     "metadata": {},
     "output_type": "execute_result"
    },
    {
     "data": {
      "image/png": "[encoded data removed]",
      "text/plain": [
       "<matplotlib.figure.Figure at 0xca97518>"
      ]
     },
     "metadata": {},
     "output_type": "display_data"
    }
   ],
   "source": [
    "fig, ax = plt.subplots(figsize = (12,8))\n",
    "seaborn.countplot(x=\"order_dow\", data=orders)"
   ]
  },
  {
   "cell_type": "code",
   "execution_count": 20,
   "metadata": {},
   "outputs": [
    {
     "data": {
      "text/plain": [
       "<matplotlib.axes._subplots.AxesSubplot at 0x166e42b0>"
      ]
     },
     "execution_count": 20,
     "metadata": {},
     "output_type": "execute_result"
    },
    {
     "data": {
      "image/png": "[encoded data removed]",
      "text/plain": [
       "<matplotlib.figure.Figure at 0x16866dd8>"
      ]
     },
     "metadata": {},
     "output_type": "display_data"
    }
   ],
   "source": [
    "fig, ax = plt.subplots(figsize = (12,8))\n",
    "seaborn.countplot(x=\"order_hour_of_day\", data=orders)"
   ]
  },
  {
   "cell_type": "code",
   "execution_count": 21,
   "metadata": {},
   "outputs": [
    {
     "data": {
      "text/plain": [
       "<matplotlib.axes._subplots.AxesSubplot at 0x1895b8d0>"
      ]
     },
     "execution_count": 21,
     "metadata": {},
     "output_type": "execute_result"
    },
    {
     "data": {
      "image/png": "[encoded data removed]",
      "text/plain": [
       "<matplotlib.figure.Figure at 0x18975780>"
      ]
     },
     "metadata": {},
     "output_type": "display_data"
    }
   ],
   "source": [
    "hm_data = orders.groupby([\"order_dow\", \"order_hour_of_day\"])[\"order_id\"].aggregate(\"count\").reset_index()\n",
    "hm_data = hm_data.pivot('order_dow', 'order_hour_of_day', 'order_id')\n",
    "\n",
    "fig, ax = plt.subplots(figsize = (12,8))\n",
    "seaborn.heatmap(hm_data)"
   ]
  },
  {
   "cell_type": "code",
   "execution_count": 22,
   "metadata": {},
   "outputs": [
    {
     "data": {
      "text/plain": [
       "<matplotlib.axes._subplots.AxesSubplot at 0x186c00b8>"
      ]
     },
     "execution_count": 22,
     "metadata": {},
     "output_type": "execute_result"
    },
    {
     "data": {
      "image/png": "[encoded data removed]",
      "text/plain": [
       "<matplotlib.figure.Figure at 0x17a35a90>"
      ]
     },
     "metadata": {},
     "output_type": "display_data"
    }
   ],
   "source": [
    "del hm_data\n",
    "gc.collect()\n",
    "\n",
    "fig, ax = plt.subplots(figsize = (12,8))\n",
    "seaborn.countplot(x=\"days_since_prior_order\", data=orders)"
   ]
  },
  {
   "cell_type": "markdown",
   "metadata": {},
   "source": [
    "## Combine into one DataFrame\n",
    "\n",
    "credit: https://www.kaggle.com/frednavruzov/dumb-and-the-dumber-baselines-plb-0-3276826"
   ]
  },
  {
   "cell_type": "code",
   "execution_count": 23,
   "metadata": {},
   "outputs": [
    {
     "name": "stdout",
     "output_type": "stream",
     "text": [
      "((1384617, 12), (1384617, 4))\n"
     ]
    },
    {
     "data": {
      "text/html": [
       "<div>\n",
       "<style>\n",
       "    .dataframe thead tr:only-child th {\n",
       "        text-align: right;\n",
       "    }\n",
       "\n",
       "    .dataframe thead th {\n",
       "        text-align: left;\n",
       "    }\n",
       "\n",
       "    .dataframe tbody tr th {\n",
       "        vertical-align: top;\n",
       "    }\n",
       "</style>\n",
       "<table border=\"1\" class=\"dataframe\">\n",
       "  <thead>\n",
       "    <tr style=\"text-align: right;\">\n",
       "      <th></th>\n",
       "      <th>order_id</th>\n",
       "      <th>product_id</th>\n",
       "      <th>add_to_cart_order</th>\n",
       "      <th>reordered</th>\n",
       "      <th>user_id</th>\n",
       "      <th>eval_set</th>\n",
       "      <th>order_number</th>\n",
       "      <th>order_dow</th>\n",
       "      <th>order_hour_of_day</th>\n",
       "      <th>days_since_prior_order</th>\n",
       "      <th>aisle_id</th>\n",
       "      <th>department_id</th>\n",
       "    </tr>\n",
       "  </thead>\n",
       "  <tbody>\n",
       "    <tr>\n",
       "      <th>0</th>\n",
       "      <td>1</td>\n",
       "      <td>49302</td>\n",
       "      <td>1</td>\n",
       "      <td>1</td>\n",
       "      <td>112108</td>\n",
       "      <td>1</td>\n",
       "      <td>4</td>\n",
       "      <td>4</td>\n",
       "      <td>10</td>\n",
       "      <td>9</td>\n",
       "      <td>120</td>\n",
       "      <td>16</td>\n",
       "    </tr>\n",
       "    <tr>\n",
       "      <th>1</th>\n",
       "      <td>1</td>\n",
       "      <td>11109</td>\n",
       "      <td>2</td>\n",
       "      <td>1</td>\n",
       "      <td>112108</td>\n",
       "      <td>1</td>\n",
       "      <td>4</td>\n",
       "      <td>4</td>\n",
       "      <td>10</td>\n",
       "      <td>9</td>\n",
       "      <td>108</td>\n",
       "      <td>16</td>\n",
       "    </tr>\n",
       "    <tr>\n",
       "      <th>2</th>\n",
       "      <td>1</td>\n",
       "      <td>10246</td>\n",
       "      <td>3</td>\n",
       "      <td>0</td>\n",
       "      <td>112108</td>\n",
       "      <td>1</td>\n",
       "      <td>4</td>\n",
       "      <td>4</td>\n",
       "      <td>10</td>\n",
       "      <td>9</td>\n",
       "      <td>83</td>\n",
       "      <td>4</td>\n",
       "    </tr>\n",
       "    <tr>\n",
       "      <th>3</th>\n",
       "      <td>1</td>\n",
       "      <td>49683</td>\n",
       "      <td>4</td>\n",
       "      <td>0</td>\n",
       "      <td>112108</td>\n",
       "      <td>1</td>\n",
       "      <td>4</td>\n",
       "      <td>4</td>\n",
       "      <td>10</td>\n",
       "      <td>9</td>\n",
       "      <td>83</td>\n",
       "      <td>4</td>\n",
       "    </tr>\n",
       "    <tr>\n",
       "      <th>4</th>\n",
       "      <td>1</td>\n",
       "      <td>43633</td>\n",
       "      <td>5</td>\n",
       "      <td>1</td>\n",
       "      <td>112108</td>\n",
       "      <td>1</td>\n",
       "      <td>4</td>\n",
       "      <td>4</td>\n",
       "      <td>10</td>\n",
       "      <td>9</td>\n",
       "      <td>95</td>\n",
       "      <td>15</td>\n",
       "    </tr>\n",
       "  </tbody>\n",
       "</table>\n",
       "</div>"
      ],
      "text/plain": [
       "   order_id  product_id  add_to_cart_order  reordered  user_id  eval_set  \\\n",
       "0         1       49302                  1          1   112108         1   \n",
       "1         1       11109                  2          1   112108         1   \n",
       "2         1       10246                  3          0   112108         1   \n",
       "3         1       49683                  4          0   112108         1   \n",
       "4         1       43633                  5          1   112108         1   \n",
       "\n",
       "   order_number  order_dow  order_hour_of_day  days_since_prior_order  \\\n",
       "0             4          4                 10                       9   \n",
       "1             4          4                 10                       9   \n",
       "2             4          4                 10                       9   \n",
       "3             4          4                 10                       9   \n",
       "4             4          4                 10                       9   \n",
       "\n",
       "   aisle_id  department_id  \n",
       "0       120             16  \n",
       "1       108             16  \n",
       "2        83              4  \n",
       "3        83              4  \n",
       "4        95             15  "
      ]
     },
     "execution_count": 23,
     "metadata": {},
     "output_type": "execute_result"
    }
   ],
   "source": [
    "indexes = np.linspace(0, len(op_prior), num=10, dtype=np.int32)\n",
    "\n",
    "order_details = pd.merge(op_train, orders, how='left', on='order_id').apply(partial(pd.to_numeric, errors='ignore', downcast='integer'))\n",
    "\n",
    "order_details = pd.merge(order_details, products[['product_id', 'aisle_id', 'department_id']].apply(partial(pd.to_numeric, errors='ignore', downcast='integer')), how='left', on='product_id')\n",
    "\n",
    "print(order_details.shape, op_train.shape)\n",
    "\n",
    "del op_train\n",
    "\n",
    "order_details.head()"
   ]
  },
  {
   "cell_type": "code",
   "execution_count": 24,
   "metadata": {},
   "outputs": [
    {
     "name": "stdout",
     "output_type": "stream",
     "text": [
      "Dataframe length: 33819114\n",
      "Memory consumption: 1128.83 Mb\n",
      "add_to_cart_order           int16\n",
      "aisle_id                    int16\n",
      "days_since_prior_order    float16\n",
      "department_id                int8\n",
      "eval_set                     int8\n",
      "order_dow                    int8\n",
      "order_hour_of_day            int8\n",
      "order_id                    int32\n",
      "order_number                int32\n",
      "product_id                  int32\n",
      "reordered                    int8\n",
      "user_id                     int32\n",
      "dtype: object\n",
      "Wall time: 33 s\n"
     ]
    }
   ],
   "source": [
    "%%time\n",
    "# update by small portions\n",
    "for i in range(len(indexes)-1):\n",
    "    order_details = pd.concat(\n",
    "        [   \n",
    "            order_details,\n",
    "            pd.merge(left=pd.merge(\n",
    "                            left=op_prior.loc[indexes[i]:indexes[i+1], :],\n",
    "                            right=products[['product_id', \n",
    "                                         'aisle_id', \n",
    "                                         'department_id' ]].apply(partial(pd.to_numeric, \n",
    "                                                                          errors='ignore', \n",
    "                                                                          downcast='integer')),\n",
    "                            how='left',\n",
    "                            on='product_id'\n",
    "                            ),\n",
    "                     right=orders, \n",
    "                     how='left', \n",
    "                     on='order_id'\n",
    "                ) #.apply(partial(pd.to_numeric, errors='ignore', downcast='integer'))\n",
    "        ]\n",
    "    )\n",
    "        \n",
    "print('Dataframe length: {}'.format(order_details.shape[0]))\n",
    "print('Memory consumption: {:.2f} Mb'.format(sum(order_details.memory_usage(index=True, \n",
    "                                                                         deep=True) / 2**20)))\n",
    "# check dtypes to see if we use memory effectively\n",
    "print(order_details.dtypes)\n",
    "\n",
    "# delete (redundant now) dataframes\n",
    "del op_prior, orders\n",
    "\n",
    "gc.collect()"
   ]
  },
  {
   "cell_type": "markdown",
   "metadata": {},
   "source": [
    "## Product Features"
   ]
  },
  {
   "cell_type": "code",
   "execution_count": 25,
   "metadata": {
    "collapsed": true
   },
   "outputs": [],
   "source": [
    "#prods = pd.DataFrame()\n",
    "prods = order_details.groupby('product_id').size().astype(np.int32).to_frame('num_orders')\n",
    "prods['num_reorders'] = order_details[order_details['reordered'] == 1].groupby('product_id').size().astype(np.int32)\n",
    "prods['avg_pos'] = order_details.groupby('product_id')['add_to_cart_order'].mean().astype(np.int32)\n",
    "prods['avg_days_since'] = order_details.groupby('product_id')['days_since_prior_order'].mean()\n",
    "prods.reset_index(inplace=True)"
   ]
  },
  {
   "cell_type": "code",
   "execution_count": 26,
   "metadata": {},
   "outputs": [
    {
     "data": {
      "text/html": [
       "<div>\n",
       "<style>\n",
       "    .dataframe thead tr:only-child th {\n",
       "        text-align: right;\n",
       "    }\n",
       "\n",
       "    .dataframe thead th {\n",
       "        text-align: left;\n",
       "    }\n",
       "\n",
       "    .dataframe tbody tr th {\n",
       "        vertical-align: top;\n",
       "    }\n",
       "</style>\n",
       "<table border=\"1\" class=\"dataframe\">\n",
       "  <thead>\n",
       "    <tr style=\"text-align: right;\">\n",
       "      <th></th>\n",
       "      <th>product_id</th>\n",
       "      <th>num_orders</th>\n",
       "      <th>num_reorders</th>\n",
       "      <th>avg_pos</th>\n",
       "      <th>avg_days_since</th>\n",
       "    </tr>\n",
       "  </thead>\n",
       "  <tbody>\n",
       "    <tr>\n",
       "      <th>0</th>\n",
       "      <td>1</td>\n",
       "      <td>1928</td>\n",
       "      <td>1185.0</td>\n",
       "      <td>5</td>\n",
       "      <td>10.710938</td>\n",
       "    </tr>\n",
       "    <tr>\n",
       "      <th>1</th>\n",
       "      <td>2</td>\n",
       "      <td>94</td>\n",
       "      <td>13.0</td>\n",
       "      <td>10</td>\n",
       "      <td>10.492188</td>\n",
       "    </tr>\n",
       "    <tr>\n",
       "      <th>2</th>\n",
       "      <td>3</td>\n",
       "      <td>283</td>\n",
       "      <td>209.0</td>\n",
       "      <td>6</td>\n",
       "      <td>10.796875</td>\n",
       "    </tr>\n",
       "    <tr>\n",
       "      <th>3</th>\n",
       "      <td>4</td>\n",
       "      <td>351</td>\n",
       "      <td>161.0</td>\n",
       "      <td>9</td>\n",
       "      <td>14.867188</td>\n",
       "    </tr>\n",
       "    <tr>\n",
       "      <th>4</th>\n",
       "      <td>5</td>\n",
       "      <td>16</td>\n",
       "      <td>10.0</td>\n",
       "      <td>6</td>\n",
       "      <td>13.000000</td>\n",
       "    </tr>\n",
       "  </tbody>\n",
       "</table>\n",
       "</div>"
      ],
      "text/plain": [
       "   product_id  num_orders  num_reorders  avg_pos  avg_days_since\n",
       "0           1        1928        1185.0        5       10.710938\n",
       "1           2          94          13.0       10       10.492188\n",
       "2           3         283         209.0        6       10.796875\n",
       "3           4         351         161.0        9       14.867188\n",
       "4           5          16          10.0        6       13.000000"
      ]
     },
     "execution_count": 26,
     "metadata": {},
     "output_type": "execute_result"
    }
   ],
   "source": [
    "prods.head()"
   ]
  },
  {
   "cell_type": "code",
   "execution_count": 27,
   "metadata": {
    "collapsed": true
   },
   "outputs": [],
   "source": [
    "users = order_details.groupby('user_id').size().astype(np.int16).to_frame('num_user_ords')\n",
    "users['num_user_reorders'] = order_details[order_details['reordered'] == 1].groupby('user_id').size().astype(np.int16)\n",
    "users.reset_index(inplace=True)"
   ]
  },
  {
   "cell_type": "code",
   "execution_count": 28,
   "metadata": {},
   "outputs": [
    {
     "data": {
      "text/html": [
       "<div>\n",
       "<style>\n",
       "    .dataframe thead tr:only-child th {\n",
       "        text-align: right;\n",
       "    }\n",
       "\n",
       "    .dataframe thead th {\n",
       "        text-align: left;\n",
       "    }\n",
       "\n",
       "    .dataframe tbody tr th {\n",
       "        vertical-align: top;\n",
       "    }\n",
       "</style>\n",
       "<table border=\"1\" class=\"dataframe\">\n",
       "  <thead>\n",
       "    <tr style=\"text-align: right;\">\n",
       "      <th></th>\n",
       "      <th>user_id</th>\n",
       "      <th>num_user_ords</th>\n",
       "      <th>num_user_reorders</th>\n",
       "    </tr>\n",
       "  </thead>\n",
       "  <tbody>\n",
       "    <tr>\n",
       "      <th>0</th>\n",
       "      <td>1</td>\n",
       "      <td>70</td>\n",
       "      <td>51.0</td>\n",
       "    </tr>\n",
       "    <tr>\n",
       "      <th>1</th>\n",
       "      <td>2</td>\n",
       "      <td>226</td>\n",
       "      <td>105.0</td>\n",
       "    </tr>\n",
       "    <tr>\n",
       "      <th>2</th>\n",
       "      <td>3</td>\n",
       "      <td>88</td>\n",
       "      <td>55.0</td>\n",
       "    </tr>\n",
       "    <tr>\n",
       "      <th>3</th>\n",
       "      <td>4</td>\n",
       "      <td>18</td>\n",
       "      <td>1.0</td>\n",
       "    </tr>\n",
       "    <tr>\n",
       "      <th>4</th>\n",
       "      <td>5</td>\n",
       "      <td>46</td>\n",
       "      <td>18.0</td>\n",
       "    </tr>\n",
       "  </tbody>\n",
       "</table>\n",
       "</div>"
      ],
      "text/plain": [
       "   user_id  num_user_ords  num_user_reorders\n",
       "0        1             70               51.0\n",
       "1        2            226              105.0\n",
       "2        3             88               55.0\n",
       "3        4             18                1.0\n",
       "4        5             46               18.0"
      ]
     },
     "execution_count": 28,
     "metadata": {},
     "output_type": "execute_result"
    }
   ],
   "source": [
    "users.head()"
   ]
  },
  {
   "cell_type": "code",
   "execution_count": 29,
   "metadata": {
    "collapsed": true
   },
   "outputs": [],
   "source": [
    "user_prods = order_details.groupby(['user_id', 'product_id']).size().astype(np.int32).to_frame('num_up_orders')\n",
    "user_prods['num_up_reorders'] = order_details[order_details['reordered'] == 1].groupby(['user_id', 'product_id']).size().astype(np.int32)\n",
    "user_prods['avg_up_pos'] = order_details.groupby(['user_id', 'product_id'])['add_to_cart_order'].mean().astype(np.int32)\n",
    "user_prods['avg_up_days_since'] = order_details.groupby(['user_id', 'product_id'])['days_since_prior_order'].mean()\n",
    "user_prods['up_first_order'] = order_details.groupby(['user_id', 'product_id'])['order_number'].min().astype(np.int32)\n",
    "user_prods['up_last_order'] = order_details.groupby(['user_id', 'product_id'])['order_number'].max().astype(np.int32)\n",
    "user_prods.reset_index(inplace=True)"
   ]
  },
  {
   "cell_type": "code",
   "execution_count": 30,
   "metadata": {},
   "outputs": [
    {
     "data": {
      "text/html": [
       "<div>\n",
       "<style>\n",
       "    .dataframe thead tr:only-child th {\n",
       "        text-align: right;\n",
       "    }\n",
       "\n",
       "    .dataframe thead th {\n",
       "        text-align: left;\n",
       "    }\n",
       "\n",
       "    .dataframe tbody tr th {\n",
       "        vertical-align: top;\n",
       "    }\n",
       "</style>\n",
       "<table border=\"1\" class=\"dataframe\">\n",
       "  <thead>\n",
       "    <tr style=\"text-align: right;\">\n",
       "      <th></th>\n",
       "      <th>user_id</th>\n",
       "      <th>product_id</th>\n",
       "      <th>num_up_orders</th>\n",
       "      <th>num_up_reorders</th>\n",
       "      <th>avg_up_pos</th>\n",
       "      <th>avg_up_days_since</th>\n",
       "      <th>up_first_order</th>\n",
       "      <th>up_last_order</th>\n",
       "    </tr>\n",
       "  </thead>\n",
       "  <tbody>\n",
       "    <tr>\n",
       "      <th>0</th>\n",
       "      <td>1</td>\n",
       "      <td>196</td>\n",
       "      <td>11</td>\n",
       "      <td>10.0</td>\n",
       "      <td>1</td>\n",
       "      <td>19.0000</td>\n",
       "      <td>1</td>\n",
       "      <td>11</td>\n",
       "    </tr>\n",
       "    <tr>\n",
       "      <th>1</th>\n",
       "      <td>1</td>\n",
       "      <td>10258</td>\n",
       "      <td>10</td>\n",
       "      <td>9.0</td>\n",
       "      <td>3</td>\n",
       "      <td>19.0000</td>\n",
       "      <td>2</td>\n",
       "      <td>11</td>\n",
       "    </tr>\n",
       "    <tr>\n",
       "      <th>2</th>\n",
       "      <td>1</td>\n",
       "      <td>10326</td>\n",
       "      <td>1</td>\n",
       "      <td>NaN</td>\n",
       "      <td>5</td>\n",
       "      <td>28.0000</td>\n",
       "      <td>5</td>\n",
       "      <td>5</td>\n",
       "    </tr>\n",
       "    <tr>\n",
       "      <th>3</th>\n",
       "      <td>1</td>\n",
       "      <td>12427</td>\n",
       "      <td>10</td>\n",
       "      <td>9.0</td>\n",
       "      <td>3</td>\n",
       "      <td>19.5625</td>\n",
       "      <td>1</td>\n",
       "      <td>10</td>\n",
       "    </tr>\n",
       "    <tr>\n",
       "      <th>4</th>\n",
       "      <td>1</td>\n",
       "      <td>13032</td>\n",
       "      <td>4</td>\n",
       "      <td>3.0</td>\n",
       "      <td>6</td>\n",
       "      <td>19.7500</td>\n",
       "      <td>2</td>\n",
       "      <td>11</td>\n",
       "    </tr>\n",
       "  </tbody>\n",
       "</table>\n",
       "</div>"
      ],
      "text/plain": [
       "   user_id  product_id  num_up_orders  num_up_reorders  avg_up_pos  \\\n",
       "0        1         196             11             10.0           1   \n",
       "1        1       10258             10              9.0           3   \n",
       "2        1       10326              1              NaN           5   \n",
       "3        1       12427             10              9.0           3   \n",
       "4        1       13032              4              3.0           6   \n",
       "\n",
       "   avg_up_days_since  up_first_order  up_last_order  \n",
       "0            19.0000               1             11  \n",
       "1            19.0000               2             11  \n",
       "2            28.0000               5              5  \n",
       "3            19.5625               1             10  \n",
       "4            19.7500               2             11  "
      ]
     },
     "execution_count": 30,
     "metadata": {},
     "output_type": "execute_result"
    }
   ],
   "source": [
    "user_prods.head()"
   ]
  },
  {
   "cell_type": "code",
   "execution_count": 31,
   "metadata": {},
   "outputs": [
    {
     "data": {
      "text/plain": [
       "Index([u'product_id', u'num_orders', u'num_reorders', u'avg_pos',\n",
       "       u'avg_days_since'],\n",
       "      dtype='object')"
      ]
     },
     "execution_count": 31,
     "metadata": {},
     "output_type": "execute_result"
    }
   ],
   "source": [
    "prods.columns"
   ]
  },
  {
   "cell_type": "code",
   "execution_count": 32,
   "metadata": {},
   "outputs": [
    {
     "data": {
      "text/plain": [
       "Index([u'user_id', u'num_user_ords', u'num_user_reorders'], dtype='object')"
      ]
     },
     "execution_count": 32,
     "metadata": {},
     "output_type": "execute_result"
    }
   ],
   "source": [
    "users.columns"
   ]
  },
  {
   "cell_type": "code",
   "execution_count": 33,
   "metadata": {},
   "outputs": [
    {
     "data": {
      "text/plain": [
       "Index([u'user_id', u'product_id', u'num_up_orders', u'num_up_reorders',\n",
       "       u'avg_up_pos', u'avg_up_days_since', u'up_first_order',\n",
       "       u'up_last_order'],\n",
       "      dtype='object')"
      ]
     },
     "execution_count": 33,
     "metadata": {},
     "output_type": "execute_result"
    }
   ],
   "source": [
    "user_prods.columns"
   ]
  },
  {
   "cell_type": "code",
   "execution_count": 34,
   "metadata": {},
   "outputs": [
    {
     "data": {
      "text/plain": [
       "115"
      ]
     },
     "execution_count": 34,
     "metadata": {},
     "output_type": "execute_result"
    }
   ],
   "source": [
    "user_prods = user_prods.merge(users, on='user_id')\n",
    "user_prods = user_prods.merge(prods, on='product_id')\n",
    "\n",
    "del users\n",
    "del prods\n",
    "gc.collect()"
   ]
  },
  {
   "cell_type": "code",
   "execution_count": 35,
   "metadata": {
    "collapsed": true
   },
   "outputs": [],
   "source": [
    "user_prods['up_order_rate'] = user_prods['num_up_orders'] / user_prods['num_user_ords']\n",
    "user_prods['orders_since_last_up_order'] = user_prods['num_user_ords'] - user_prods['up_last_order']"
   ]
  },
  {
   "cell_type": "code",
   "execution_count": 36,
   "metadata": {},
   "outputs": [
    {
     "data": {
      "text/plain": [
       "49"
      ]
     },
     "execution_count": 36,
     "metadata": {},
     "output_type": "execute_result"
    }
   ],
   "source": [
    "order_details = order_details.merge(user_prods, on=['user_id', 'product_id'])\n",
    "\n",
    "del user_prods\n",
    "gc.collect()"
   ]
  },
  {
   "cell_type": "code",
   "execution_count": 37,
   "metadata": {},
   "outputs": [
    {
     "name": "stdout",
     "output_type": "stream",
     "text": [
      "add_to_cart_order               int16\n",
      "aisle_id                        int16\n",
      "days_since_prior_order        float16\n",
      "department_id                    int8\n",
      "eval_set                         int8\n",
      "order_dow                        int8\n",
      "order_hour_of_day                int8\n",
      "order_id                        int32\n",
      "order_number                    int32\n",
      "product_id                      int32\n",
      "reordered                        int8\n",
      "user_id                         int32\n",
      "num_up_orders                   int32\n",
      "num_up_reorders               float64\n",
      "avg_up_pos                      int32\n",
      "avg_up_days_since             float16\n",
      "up_first_order                  int32\n",
      "up_last_order                   int32\n",
      "num_user_ords                   int16\n",
      "num_user_reorders             float64\n",
      "num_orders                      int32\n",
      "num_reorders                  float64\n",
      "avg_pos                         int32\n",
      "avg_days_since                float16\n",
      "up_order_rate                 float64\n",
      "orders_since_last_up_order      int32\n",
      "dtype: object\n",
      "Memory consumption: 3257.49 Mb\n"
     ]
    }
   ],
   "source": [
    "print(order_details.dtypes)\n",
    "print('Memory consumption: {:.2f} Mb'.format(sum(order_details.memory_usage(index=True, \n",
    "                                                                         deep=True) / 2**20)))"
   ]
  },
  {
   "cell_type": "code",
   "execution_count": 39,
   "metadata": {},
   "outputs": [
    {
     "data": {
      "text/plain": [
       "9"
      ]
     },
     "execution_count": 39,
     "metadata": {},
     "output_type": "execute_result"
    }
   ],
   "source": [
    "order_details['reordered'].fillna(0, inplace=True)\n",
    "order_details['reordered'] = order_details['reordered'].astype(np.uint8)\n",
    "gc.collect()"
   ]
  },
  {
   "cell_type": "code",
   "execution_count": 40,
   "metadata": {},
   "outputs": [
    {
     "data": {
      "text/plain": [
       "14"
      ]
     },
     "execution_count": 40,
     "metadata": {},
     "output_type": "execute_result"
    }
   ],
   "source": [
    "train = order_details[order_details['eval_set'] == 1].drop(['eval_set', 'user_id', 'product_id', 'order_id'], axis=1)\n",
    "test = order_details[order_details['eval_set'] == 2].drop(['eval_set', 'user_id', 'reordered'], axis=1)\n",
    "\n",
    "del order_details\n",
    "gc.collect()"
   ]
  },
  {
   "cell_type": "code",
   "execution_count": 41,
   "metadata": {},
   "outputs": [
    {
     "data": {
      "text/html": [
       "<div>\n",
       "<style>\n",
       "    .dataframe thead tr:only-child th {\n",
       "        text-align: right;\n",
       "    }\n",
       "\n",
       "    .dataframe thead th {\n",
       "        text-align: left;\n",
       "    }\n",
       "\n",
       "    .dataframe tbody tr th {\n",
       "        vertical-align: top;\n",
       "    }\n",
       "</style>\n",
       "<table border=\"1\" class=\"dataframe\">\n",
       "  <thead>\n",
       "    <tr style=\"text-align: right;\">\n",
       "      <th></th>\n",
       "      <th>add_to_cart_order</th>\n",
       "      <th>aisle_id</th>\n",
       "      <th>days_since_prior_order</th>\n",
       "      <th>department_id</th>\n",
       "      <th>order_dow</th>\n",
       "      <th>order_hour_of_day</th>\n",
       "      <th>order_number</th>\n",
       "      <th>reordered</th>\n",
       "      <th>num_up_orders</th>\n",
       "      <th>num_up_reorders</th>\n",
       "      <th>...</th>\n",
       "      <th>up_first_order</th>\n",
       "      <th>up_last_order</th>\n",
       "      <th>num_user_ords</th>\n",
       "      <th>num_user_reorders</th>\n",
       "      <th>num_orders</th>\n",
       "      <th>num_reorders</th>\n",
       "      <th>avg_pos</th>\n",
       "      <th>avg_days_since</th>\n",
       "      <th>up_order_rate</th>\n",
       "      <th>orders_since_last_up_order</th>\n",
       "    </tr>\n",
       "  </thead>\n",
       "  <tbody>\n",
       "    <tr>\n",
       "      <th>0</th>\n",
       "      <td>1</td>\n",
       "      <td>120</td>\n",
       "      <td>9.0</td>\n",
       "      <td>16</td>\n",
       "      <td>4</td>\n",
       "      <td>10</td>\n",
       "      <td>4</td>\n",
       "      <td>1</td>\n",
       "      <td>3</td>\n",
       "      <td>2.0</td>\n",
       "      <td>...</td>\n",
       "      <td>1</td>\n",
       "      <td>4</td>\n",
       "      <td>29</td>\n",
       "      <td>13.0</td>\n",
       "      <td>171</td>\n",
       "      <td>108.0</td>\n",
       "      <td>6</td>\n",
       "      <td>10.125000</td>\n",
       "      <td>0.103448</td>\n",
       "      <td>25</td>\n",
       "    </tr>\n",
       "    <tr>\n",
       "      <th>3</th>\n",
       "      <td>2</td>\n",
       "      <td>108</td>\n",
       "      <td>9.0</td>\n",
       "      <td>16</td>\n",
       "      <td>4</td>\n",
       "      <td>10</td>\n",
       "      <td>4</td>\n",
       "      <td>1</td>\n",
       "      <td>3</td>\n",
       "      <td>2.0</td>\n",
       "      <td>...</td>\n",
       "      <td>1</td>\n",
       "      <td>4</td>\n",
       "      <td>29</td>\n",
       "      <td>13.0</td>\n",
       "      <td>4616</td>\n",
       "      <td>3299.0</td>\n",
       "      <td>7</td>\n",
       "      <td>10.796875</td>\n",
       "      <td>0.103448</td>\n",
       "      <td>25</td>\n",
       "    </tr>\n",
       "    <tr>\n",
       "      <th>6</th>\n",
       "      <td>3</td>\n",
       "      <td>83</td>\n",
       "      <td>9.0</td>\n",
       "      <td>4</td>\n",
       "      <td>4</td>\n",
       "      <td>10</td>\n",
       "      <td>4</td>\n",
       "      <td>0</td>\n",
       "      <td>1</td>\n",
       "      <td>NaN</td>\n",
       "      <td>...</td>\n",
       "      <td>4</td>\n",
       "      <td>4</td>\n",
       "      <td>29</td>\n",
       "      <td>13.0</td>\n",
       "      <td>24888</td>\n",
       "      <td>13067.0</td>\n",
       "      <td>9</td>\n",
       "      <td>11.085938</td>\n",
       "      <td>0.034483</td>\n",
       "      <td>25</td>\n",
       "    </tr>\n",
       "    <tr>\n",
       "      <th>7</th>\n",
       "      <td>4</td>\n",
       "      <td>83</td>\n",
       "      <td>9.0</td>\n",
       "      <td>4</td>\n",
       "      <td>4</td>\n",
       "      <td>10</td>\n",
       "      <td>4</td>\n",
       "      <td>0</td>\n",
       "      <td>1</td>\n",
       "      <td>NaN</td>\n",
       "      <td>...</td>\n",
       "      <td>4</td>\n",
       "      <td>4</td>\n",
       "      <td>29</td>\n",
       "      <td>13.0</td>\n",
       "      <td>99728</td>\n",
       "      <td>69022.0</td>\n",
       "      <td>7</td>\n",
       "      <td>12.320312</td>\n",
       "      <td>0.034483</td>\n",
       "      <td>25</td>\n",
       "    </tr>\n",
       "    <tr>\n",
       "      <th>8</th>\n",
       "      <td>5</td>\n",
       "      <td>95</td>\n",
       "      <td>9.0</td>\n",
       "      <td>15</td>\n",
       "      <td>4</td>\n",
       "      <td>10</td>\n",
       "      <td>4</td>\n",
       "      <td>1</td>\n",
       "      <td>3</td>\n",
       "      <td>2.0</td>\n",
       "      <td>...</td>\n",
       "      <td>1</td>\n",
       "      <td>4</td>\n",
       "      <td>29</td>\n",
       "      <td>13.0</td>\n",
       "      <td>677</td>\n",
       "      <td>322.0</td>\n",
       "      <td>9</td>\n",
       "      <td>12.000000</td>\n",
       "      <td>0.103448</td>\n",
       "      <td>25</td>\n",
       "    </tr>\n",
       "  </tbody>\n",
       "</table>\n",
       "<p>5 rows × 22 columns</p>\n",
       "</div>"
      ],
      "text/plain": [
       "   add_to_cart_order  aisle_id  days_since_prior_order  department_id  \\\n",
       "0                  1       120                     9.0             16   \n",
       "3                  2       108                     9.0             16   \n",
       "6                  3        83                     9.0              4   \n",
       "7                  4        83                     9.0              4   \n",
       "8                  5        95                     9.0             15   \n",
       "\n",
       "   order_dow  order_hour_of_day  order_number  reordered  num_up_orders  \\\n",
       "0          4                 10             4          1              3   \n",
       "3          4                 10             4          1              3   \n",
       "6          4                 10             4          0              1   \n",
       "7          4                 10             4          0              1   \n",
       "8          4                 10             4          1              3   \n",
       "\n",
       "   num_up_reorders             ...              up_first_order  up_last_order  \\\n",
       "0              2.0             ...                           1              4   \n",
       "3              2.0             ...                           1              4   \n",
       "6              NaN             ...                           4              4   \n",
       "7              NaN             ...                           4              4   \n",
       "8              2.0             ...                           1              4   \n",
       "\n",
       "   num_user_ords  num_user_reorders  num_orders  num_reorders  avg_pos  \\\n",
       "0             29               13.0         171         108.0        6   \n",
       "3             29               13.0        4616        3299.0        7   \n",
       "6             29               13.0       24888       13067.0        9   \n",
       "7             29               13.0       99728       69022.0        7   \n",
       "8             29               13.0         677         322.0        9   \n",
       "\n",
       "   avg_days_since  up_order_rate  orders_since_last_up_order  \n",
       "0       10.125000       0.103448                          25  \n",
       "3       10.796875       0.103448                          25  \n",
       "6       11.085938       0.034483                          25  \n",
       "7       12.320312       0.034483                          25  \n",
       "8       12.000000       0.103448                          25  \n",
       "\n",
       "[5 rows x 22 columns]"
      ]
     },
     "execution_count": 41,
     "metadata": {},
     "output_type": "execute_result"
    }
   ],
   "source": [
    "train.head()"
   ]
  },
  {
   "cell_type": "code",
   "execution_count": 42,
   "metadata": {},
   "outputs": [
    {
     "data": {
      "text/html": [
       "<div>\n",
       "<style>\n",
       "    .dataframe thead tr:only-child th {\n",
       "        text-align: right;\n",
       "    }\n",
       "\n",
       "    .dataframe thead th {\n",
       "        text-align: left;\n",
       "    }\n",
       "\n",
       "    .dataframe tbody tr th {\n",
       "        vertical-align: top;\n",
       "    }\n",
       "</style>\n",
       "<table border=\"1\" class=\"dataframe\">\n",
       "  <thead>\n",
       "    <tr style=\"text-align: right;\">\n",
       "      <th></th>\n",
       "      <th>add_to_cart_order</th>\n",
       "      <th>aisle_id</th>\n",
       "      <th>days_since_prior_order</th>\n",
       "      <th>department_id</th>\n",
       "      <th>order_dow</th>\n",
       "      <th>order_hour_of_day</th>\n",
       "      <th>order_id</th>\n",
       "      <th>order_number</th>\n",
       "      <th>product_id</th>\n",
       "      <th>num_up_orders</th>\n",
       "      <th>...</th>\n",
       "      <th>up_first_order</th>\n",
       "      <th>up_last_order</th>\n",
       "      <th>num_user_ords</th>\n",
       "      <th>num_user_reorders</th>\n",
       "      <th>num_orders</th>\n",
       "      <th>num_reorders</th>\n",
       "      <th>avg_pos</th>\n",
       "      <th>avg_days_since</th>\n",
       "      <th>up_order_rate</th>\n",
       "      <th>orders_since_last_up_order</th>\n",
       "    </tr>\n",
       "  </thead>\n",
       "  <tbody>\n",
       "    <tr>\n",
       "      <th>47</th>\n",
       "      <td>1</td>\n",
       "      <td>117</td>\n",
       "      <td>24.0</td>\n",
       "      <td>19</td>\n",
       "      <td>6</td>\n",
       "      <td>16</td>\n",
       "      <td>38</td>\n",
       "      <td>6</td>\n",
       "      <td>11913</td>\n",
       "      <td>1</td>\n",
       "      <td>...</td>\n",
       "      <td>6</td>\n",
       "      <td>6</td>\n",
       "      <td>48</td>\n",
       "      <td>9.0</td>\n",
       "      <td>2048</td>\n",
       "      <td>1067.0</td>\n",
       "      <td>8</td>\n",
       "      <td>10.640625</td>\n",
       "      <td>0.020833</td>\n",
       "      <td>42</td>\n",
       "    </tr>\n",
       "    <tr>\n",
       "      <th>48</th>\n",
       "      <td>2</td>\n",
       "      <td>123</td>\n",
       "      <td>24.0</td>\n",
       "      <td>4</td>\n",
       "      <td>6</td>\n",
       "      <td>16</td>\n",
       "      <td>38</td>\n",
       "      <td>6</td>\n",
       "      <td>18159</td>\n",
       "      <td>1</td>\n",
       "      <td>...</td>\n",
       "      <td>6</td>\n",
       "      <td>6</td>\n",
       "      <td>48</td>\n",
       "      <td>9.0</td>\n",
       "      <td>4565</td>\n",
       "      <td>2332.0</td>\n",
       "      <td>9</td>\n",
       "      <td>11.117188</td>\n",
       "      <td>0.020833</td>\n",
       "      <td>42</td>\n",
       "    </tr>\n",
       "    <tr>\n",
       "      <th>49</th>\n",
       "      <td>3</td>\n",
       "      <td>19</td>\n",
       "      <td>24.0</td>\n",
       "      <td>13</td>\n",
       "      <td>6</td>\n",
       "      <td>16</td>\n",
       "      <td>38</td>\n",
       "      <td>6</td>\n",
       "      <td>4461</td>\n",
       "      <td>1</td>\n",
       "      <td>...</td>\n",
       "      <td>6</td>\n",
       "      <td>6</td>\n",
       "      <td>48</td>\n",
       "      <td>9.0</td>\n",
       "      <td>8815</td>\n",
       "      <td>2288.0</td>\n",
       "      <td>9</td>\n",
       "      <td>11.468750</td>\n",
       "      <td>0.020833</td>\n",
       "      <td>42</td>\n",
       "    </tr>\n",
       "    <tr>\n",
       "      <th>50</th>\n",
       "      <td>4</td>\n",
       "      <td>123</td>\n",
       "      <td>24.0</td>\n",
       "      <td>4</td>\n",
       "      <td>6</td>\n",
       "      <td>16</td>\n",
       "      <td>38</td>\n",
       "      <td>6</td>\n",
       "      <td>21616</td>\n",
       "      <td>2</td>\n",
       "      <td>...</td>\n",
       "      <td>1</td>\n",
       "      <td>6</td>\n",
       "      <td>48</td>\n",
       "      <td>9.0</td>\n",
       "      <td>75752</td>\n",
       "      <td>51869.0</td>\n",
       "      <td>8</td>\n",
       "      <td>11.523438</td>\n",
       "      <td>0.041667</td>\n",
       "      <td>42</td>\n",
       "    </tr>\n",
       "    <tr>\n",
       "      <th>52</th>\n",
       "      <td>5</td>\n",
       "      <td>83</td>\n",
       "      <td>24.0</td>\n",
       "      <td>4</td>\n",
       "      <td>6</td>\n",
       "      <td>16</td>\n",
       "      <td>38</td>\n",
       "      <td>6</td>\n",
       "      <td>23622</td>\n",
       "      <td>1</td>\n",
       "      <td>...</td>\n",
       "      <td>6</td>\n",
       "      <td>6</td>\n",
       "      <td>48</td>\n",
       "      <td>9.0</td>\n",
       "      <td>7894</td>\n",
       "      <td>3424.0</td>\n",
       "      <td>9</td>\n",
       "      <td>10.367188</td>\n",
       "      <td>0.020833</td>\n",
       "      <td>42</td>\n",
       "    </tr>\n",
       "  </tbody>\n",
       "</table>\n",
       "<p>5 rows × 23 columns</p>\n",
       "</div>"
      ],
      "text/plain": [
       "    add_to_cart_order  aisle_id  days_since_prior_order  department_id  \\\n",
       "47                  1       117                    24.0             19   \n",
       "48                  2       123                    24.0              4   \n",
       "49                  3        19                    24.0             13   \n",
       "50                  4       123                    24.0              4   \n",
       "52                  5        83                    24.0              4   \n",
       "\n",
       "    order_dow  order_hour_of_day  order_id  order_number  product_id  \\\n",
       "47          6                 16        38             6       11913   \n",
       "48          6                 16        38             6       18159   \n",
       "49          6                 16        38             6        4461   \n",
       "50          6                 16        38             6       21616   \n",
       "52          6                 16        38             6       23622   \n",
       "\n",
       "    num_up_orders             ...              up_first_order  up_last_order  \\\n",
       "47              1             ...                           6              6   \n",
       "48              1             ...                           6              6   \n",
       "49              1             ...                           6              6   \n",
       "50              2             ...                           1              6   \n",
       "52              1             ...                           6              6   \n",
       "\n",
       "    num_user_ords  num_user_reorders  num_orders  num_reorders  avg_pos  \\\n",
       "47             48                9.0        2048        1067.0        8   \n",
       "48             48                9.0        4565        2332.0        9   \n",
       "49             48                9.0        8815        2288.0        9   \n",
       "50             48                9.0       75752       51869.0        8   \n",
       "52             48                9.0        7894        3424.0        9   \n",
       "\n",
       "    avg_days_since  up_order_rate  orders_since_last_up_order  \n",
       "47       10.640625       0.020833                          42  \n",
       "48       11.117188       0.020833                          42  \n",
       "49       11.468750       0.020833                          42  \n",
       "50       11.523438       0.041667                          42  \n",
       "52       10.367188       0.020833                          42  \n",
       "\n",
       "[5 rows x 23 columns]"
      ]
     },
     "execution_count": 42,
     "metadata": {},
     "output_type": "execute_result"
    }
   ],
   "source": [
    "test.head()"
   ]
  },
  {
   "cell_type": "code",
   "execution_count": 112,
   "metadata": {},
   "outputs": [],
   "source": [
    "train = train.astype(dtype= {'aisle_id': np.uint8, 'days_since_prior_order': np.float16, 'order_number': np.uint16,\n",
    "                             'num_up_orders': np.uint8, 'num_up_reorders': np.float16, 'avg_up_pos': np.uint8, \n",
    "                             'avg_up_days_since': np.float16, 'up_first_order': np.uint8, 'up_last_order': np.uint8,\n",
    "                             'num_user_ords': np.uint8, 'num_user_reorders': np.float16, 'num_orders': np.uint16,\n",
    "                             'num_reorders': np.float16, 'avg_pos': np.uint8, 'avg_days_since': np.float16,\n",
    "                             'up_order_rate': np.float16, 'orders_since_last_up_order': np.uint8}, copy=False)\n",
    "\n",
    "test = test.astype(dtype= {'aisle_id': np.uint8, 'days_since_prior_order': np.float16, 'order_number': np.uint16,\n",
    "                             'num_up_orders': np.uint8, 'num_up_reorders': np.float16, 'avg_up_pos': np.uint8, \n",
    "                             'avg_up_days_since': np.float16, 'up_first_order': np.uint8, 'up_last_order': np.uint8,\n",
    "                             'num_user_ords': np.uint8, 'num_user_reorders': np.float16, 'num_orders': np.uint16,\n",
    "                             'num_reorders': np.float16, 'avg_pos': np.uint8, 'avg_days_since': np.float16,\n",
    "                             'up_order_rate': np.float16, 'orders_since_last_up_order': np.uint8}, copy=False)\n"
   ]
  },
  {
   "cell_type": "code",
   "execution_count": 113,
   "metadata": {
    "collapsed": true
   },
   "outputs": [],
   "source": [
    "train = train.fillna(0)\n",
    "test = test.fillna(0)"
   ]
  },
  {
   "cell_type": "code",
   "execution_count": 114,
   "metadata": {},
   "outputs": [
    {
     "data": {
      "text/plain": [
       "add_to_cart_order               int16\n",
       "aisle_id                        uint8\n",
       "days_since_prior_order        float16\n",
       "department_id                    int8\n",
       "order_dow                        int8\n",
       "order_hour_of_day                int8\n",
       "order_number                   uint16\n",
       "reordered                       uint8\n",
       "num_up_orders                   uint8\n",
       "num_up_reorders               float16\n",
       "avg_up_pos                      uint8\n",
       "avg_up_days_since             float16\n",
       "up_first_order                  uint8\n",
       "up_last_order                   uint8\n",
       "num_user_ords                   uint8\n",
       "num_user_reorders             float16\n",
       "num_orders                     uint16\n",
       "num_reorders                  float16\n",
       "avg_pos                         uint8\n",
       "avg_days_since                float16\n",
       "up_order_rate                 float16\n",
       "orders_since_last_up_order      uint8\n",
       "dtype: object"
      ]
     },
     "execution_count": 114,
     "metadata": {},
     "output_type": "execute_result"
    }
   ],
   "source": [
    "train.dtypes"
   ]
  },
  {
   "cell_type": "code",
   "execution_count": 120,
   "metadata": {},
   "outputs": [],
   "source": [
    "train.replace([np.inf, -np.inf], np.nan)\n",
    "train.fillna(0, inplace=True)\n",
    "\n",
    "test.replace(np.finfo(np.float64).max, np.nan)\n",
    "test.fillna(0, inplace=True)"
   ]
  },
  {
   "cell_type": "code",
   "execution_count": 123,
   "metadata": {},
   "outputs": [],
   "source": [
    "train = train.drop('num_reorders', axis=1)\n",
    "test = test.drop('num_reorders', axis=1)"
   ]
  },
  {
   "cell_type": "code",
   "execution_count": 124,
   "metadata": {},
   "outputs": [
    {
     "data": {
      "text/plain": [
       "False"
      ]
     },
     "execution_count": 124,
     "metadata": {},
     "output_type": "execute_result"
    }
   ],
   "source": [
    "X_train = train[train.columns.difference(['reordered'])]\n",
    "y_train = train['reordered']\n",
    "\n",
    "X_train.isnull().values.any()"
   ]
  },
  {
   "cell_type": "code",
   "execution_count": 127,
   "metadata": {},
   "outputs": [],
   "source": [
    "from sklearn.ensemble import RandomForestClassifier\n",
    "clf = RandomForestClassifier(n_estimators=100, max_features=5).fit(X_train, y_train)"
   ]
  },
  {
   "cell_type": "code",
   "execution_count": 128,
   "metadata": {
    "collapsed": true
   },
   "outputs": [],
   "source": [
    "test['reordered'] = clf.predict(test[test.columns.difference(['order_id', 'product_id'])])"
   ]
  },
  {
   "cell_type": "code",
   "execution_count": 130,
   "metadata": {},
   "outputs": [],
   "source": [
    "d = dict()\n",
    "for row in test.itertuples():\n",
    "    if row.reordered == 1:\n",
    "        try:\n",
    "            d[row.order_id] += ' ' + str(row.product_id)\n",
    "        except:\n",
    "            d[row.order_id] = str(row.product_id)\n",
    "            \n",
    "for order in test_orders.order_id:\n",
    "    if order not in d:\n",
    "        d[order] = 'None'"
   ]
  },
  {
   "cell_type": "code",
   "execution_count": 136,
   "metadata": {},
   "outputs": [],
   "source": [
    "submission = pd.DataFrame.from_dict(d, orient='index')\n",
    "submission.reset_index(inplace=True)"
   ]
  },
  {
   "cell_type": "code",
   "execution_count": 137,
   "metadata": {},
   "outputs": [],
   "source": [
    "submission.columns = ['order_id', 'products']"
   ]
  },
  {
   "cell_type": "code",
   "execution_count": 138,
   "metadata": {
    "collapsed": true
   },
   "outputs": [],
   "source": [
    "submission.to_csv('submission.csv', index=False)"
   ]
  },
  {
   "cell_type": "code",
   "execution_count": 139,
   "metadata": {},
   "outputs": [
    {
     "data": {
      "text/plain": [
       "array([  2.51538747e-04,   1.25064173e-07,   2.35740136e-07,\n",
       "         4.49720187e-04,   2.48857862e-02,   6.12293717e-04,\n",
       "         1.00962965e-03,   9.12374928e-08,   5.54036709e-04,\n",
       "         4.51380677e-01,   3.64882061e-01,   6.16604038e-03,\n",
       "         1.43343735e-02,   4.48143631e-08,   2.19914672e-07,\n",
       "         9.45172442e-03,   4.32287113e-03,   8.44728816e-02,\n",
       "         4.75361021e-03,   3.24720385e-02])"
      ]
     },
     "execution_count": 139,
     "metadata": {},
     "output_type": "execute_result"
    }
   ],
   "source": [
    "clf.feature_importances_"
   ]
  },
  {
   "cell_type": "code",
   "execution_count": 140,
   "metadata": {},
   "outputs": [
    {
     "data": {
      "text/plain": [
       "Index([u'add_to_cart_order', u'aisle_id', u'days_since_prior_order',\n",
       "       u'department_id', u'order_dow', u'order_hour_of_day', u'order_number',\n",
       "       u'reordered', u'num_up_orders', u'num_up_reorders', u'avg_up_pos',\n",
       "       u'avg_up_days_since', u'up_first_order', u'up_last_order',\n",
       "       u'num_user_ords', u'num_user_reorders', u'num_orders', u'avg_pos',\n",
       "       u'avg_days_since', u'up_order_rate', u'orders_since_last_up_order'],\n",
       "      dtype='object')"
      ]
     },
     "execution_count": 140,
     "metadata": {},
     "output_type": "execute_result"
    }
   ],
   "source": [
    "train.columns"
   ]
  },
  {
   "cell_type": "code",
   "execution_count": 153,
   "metadata": {},
   "outputs": [
    {
     "data": {
      "text/plain": [
       "[('add_to_cart_order', 0.00025153874657091256),\n",
       " ('aisle_id', 1.2506417325572942e-07),\n",
       " ('days_since_prior_order', 2.3574013608022517e-07),\n",
       " ('department_id', 0.00044972018653027226),\n",
       " ('order_dow', 0.024885786207272262),\n",
       " ('order_hour_of_day', 0.00061229371748855704),\n",
       " ('order_number', 0.0010096296514556157),\n",
       " ('reordered', 9.1237492811695272e-08),\n",
       " ('num_up_orders', 0.00055403670880390136),\n",
       " ('num_up_reorders', 0.45138067680434246),\n",
       " ('avg_up_pos', 0.36488206148630392),\n",
       " ('avg_up_days_since', 0.0061660403843464325),\n",
       " ('up_first_order', 0.014334373528944839),\n",
       " ('up_last_order', 4.4814363065767807e-08),\n",
       " ('num_user_ords', 2.1991467188917733e-07),\n",
       " ('num_user_reorders', 0.0094517244211388823),\n",
       " ('num_orders', 0.0043228711263799428),\n",
       " ('avg_pos', 0.08447288156494924),\n",
       " ('avg_days_since', 0.004753610208109881),\n",
       " ('up_order_rate', 0.032472038486525696)]"
      ]
     },
     "execution_count": 153,
     "metadata": {},
     "output_type": "execute_result"
    }
   ],
   "source": [
    "zip(train.columns, clf.feature_importances_)"
   ]
  },
  {
   "cell_type": "code",
   "execution_count": null,
   "metadata": {},
   "outputs": [],
   "source": []
  },
  {
   "cell_type": "code",
   "execution_count": null,
   "metadata": {
    "collapsed": true
   },
   "outputs": [],
   "source": []
  }
 ],
 "metadata": {
  "kernelspec": {
   "display_name": "Python 2",
   "language": "python",
   "name": "python2"
  },
  "language_info": {
   "codemirror_mode": {
    "name": "ipython",
    "version": 2
   },
   "file_extension": ".py",
   "mimetype": "text/x-python",
   "name": "python",
   "nbconvert_exporter": "python",
   "pygments_lexer": "ipython2",
   "version": "2.7.13"
  }
 },
 "nbformat": 4,
 "nbformat_minor": 1
}
